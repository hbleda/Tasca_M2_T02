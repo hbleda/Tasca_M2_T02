{
 "cells": [
  {
   "cell_type": "markdown",
   "id": "3cb91c47",
   "metadata": {},
   "source": [
    "Exercici 1\n",
    "\n",
    "L'exercici consisteix a crear un programa que et classifiqui una variable numèrica en funció de l’escala Suspès/Aprovat/Notable/Excel·lent.\n",
    "\n",
    "Creamos una función, comprobamos primero que la nota está entre los valores correctos y mediante if..elif asignamos el resultado correspondiente al valor numérico."
   ]
  },
  {
   "cell_type": "code",
   "execution_count": 1,
   "id": "0529f474",
   "metadata": {},
   "outputs": [
    {
     "name": "stdout",
     "output_type": "stream",
     "text": [
      "Introdueix la nota: 8\n",
      "Notable\n"
     ]
    }
   ],
   "source": [
    "def qualificacio(nota):\n",
    "    if nota<0 or nota>10 : resultat= \"El valor de la nota ha d'estar entre 0 i 10\"\n",
    "    elif nota<5 : resultat = \"Suspès\"\n",
    "    elif nota<7 : resultat = \"Aprovat\"\n",
    "    elif nota<9 : resultat = \"Notable\"\n",
    "    elif nota<=10: resultat = \"Excel·lent\"\n",
    "    return resultat\n",
    "\n",
    "nota = int(input(\"Introdueix la nota: \"))\n",
    "print(qualificacio(nota))"
   ]
  },
  {
   "cell_type": "markdown",
   "id": "ca66d280",
   "metadata": {},
   "source": [
    "Exercici 2\n",
    "\n",
    "Utilitzant el següent tutorial crea un programa que et pregunti dos números. T’ha de mostrar un missatge dient si el primer és més gran, el segon és més gran o són iguals.\n",
    "\n",
    "Creamos una función, pedimos ambos número por pantalla y comprobamos que número es mayor con if..elif"
   ]
  },
  {
   "cell_type": "code",
   "execution_count": 2,
   "id": "7fe72332",
   "metadata": {},
   "outputs": [
    {
     "name": "stdout",
     "output_type": "stream",
     "text": [
      "Introdueix el primer número: 67\n",
      "Introdueix el segon número: 89\n",
      "El segon número és més gran que el primer\n"
     ]
    }
   ],
   "source": [
    "def comprovar_numero():\n",
    "    num1 = int(input(\"Introdueix el primer número: \"))\n",
    "    num2 = int(input(\"Introdueix el segon número: \"))\n",
    "\n",
    "    if num1 > num2 : resultat = \"El primer número és més gran que el segon\"\n",
    "    elif num2 > num1 : resultat = \"El segon número és més gran que el primer\"\n",
    "    else : resultat = \"Els dos números són iguals\"\n",
    "\n",
    "    return resultat\n",
    "\n",
    "print(comprovar_numero())\n"
   ]
  },
  {
   "cell_type": "markdown",
   "id": "3f82511c",
   "metadata": {},
   "source": [
    "Exercici 3\n",
    "\n",
    "Crea un programa que et pregunti el teu nom, i et demani un número. Si el número és 0, hauria de mostrar un missatge d’error. En cas contrari, hauria de mostrar el nom repetit tants cops com indiqui el número. Per exemple, “Joan Joan Joan”.\n",
    "\n",
    "Creamos una función, una variable donde guardar el resultado en el bucle y solicitamos nombre y número. Comprobamos que el número es mayor que 0 y si es así entramos en un bucle que se repite el número de veces indicado y que va añadiendo el nombre en cada iteración."
   ]
  },
  {
   "cell_type": "code",
   "execution_count": 3,
   "id": "2213f1b2",
   "metadata": {},
   "outputs": [
    {
     "name": "stdout",
     "output_type": "stream",
     "text": [
      "Introdueix el teu nom: Horacio\n",
      "Introdueix el nombre de vegades que vols repetir el teu nom: 10\n",
      "Horacio Horacio Horacio Horacio Horacio Horacio Horacio Horacio Horacio Horacio \n"
     ]
    }
   ],
   "source": [
    "def meu_nom():\n",
    "    resultat = \"\"\n",
    "    nom = input(\"Introdueix el teu nom: \")\n",
    "    num = int(input(\"Introdueix el nombre de vegades que vols repetir el teu nom: \"))\n",
    "\n",
    "    if num <= 0 : resultat = \"El nombre ha de ser més gran que 0\"\n",
    "    else: \n",
    "       for i in range(num) : resultat = resultat+nom+\" \"\n",
    "    return resultat\n",
    "\n",
    "print(meu_nom())\n"
   ]
  },
  {
   "cell_type": "markdown",
   "id": "e606b5e6",
   "metadata": {},
   "source": [
    "Exercici 4\n",
    "\n",
    "Crea un programa que donada una llista qualsevol, et digui si és simètrica o no. Si ho és, que et digui quants elements té.\n",
    "\n",
    "Creamos una función, comprobamos que la lista tiene al menos 1 elemento y si es así devolvemos true. Si tienes más elementos, devolvemos el \"AND\" entre la comprobación de que son iguales el primer elemento y el último y la llamada recursiva a la misma lista sin el primer y el último elemento. "
   ]
  },
  {
   "cell_type": "code",
   "execution_count": 4,
   "id": "c4ca4913",
   "metadata": {},
   "outputs": [
    {
     "name": "stdout",
     "output_type": "stream",
     "text": [
      "La llista és simètrica i té 11 elements\n"
     ]
    }
   ],
   "source": [
    "def simetrica(llista):\n",
    "    \n",
    "    if len(llista) <= 1: return True\n",
    "    else: \n",
    "        return (llista[0]==llista[-1]) and simetrica(llista[1:-1])\n",
    "\n",
    "llista = [1,2,2,3,4,5,4,3,2,2,1,]\n",
    "\n",
    "\n",
    "if simetrica(llista): \n",
    "   print(f\"La llista és simètrica i té {len(llista)} elements\")\n",
    "else: \n",
    "   print(\"La llista no és simètrica\")\n"
   ]
  },
  {
   "cell_type": "markdown",
   "id": "61804489",
   "metadata": {},
   "source": [
    "Exercici 5\n",
    "Crea un programa que donada una llista, et digui quants números coincideixen amb la seva posició. Per exemple\n",
    "[3,4,2,0,2,3,6] el 2 i el 6 coincideixen.\n",
    "\n",
    "\n",
    "Creamos una función, una lista vacía donde guardar las coincidencias y creamos un bucle for que recorre los valores recibidos de la función enumerate que nos devuelve una tupla con el objeto y el indice que ocupa (i y num en este caso)."
   ]
  },
  {
   "cell_type": "code",
   "execution_count": 5,
   "id": "7e981f87",
   "metadata": {},
   "outputs": [
    {
     "name": "stdout",
     "output_type": "stream",
     "text": [
      "En aquesta llista coincideixen en valor i posició els números següents:  [2, 3, 4, 5, 10]\n"
     ]
    }
   ],
   "source": [
    "def coincideix_posicio(llista):\n",
    "    coincideix = []\n",
    "    for i, num in enumerate(llista):\n",
    "        if i == num:\n",
    "            coincideix.append(num)\n",
    "    return coincideix\n",
    "\n",
    "llista = [1,2,2,3,4,5,4,3,2,2,10]\n",
    "\n",
    "print(f\"En aquesta llista coincideixen en valor i posició els números següents:  {coincideix_posicio(llista)}\")"
   ]
  },
  {
   "cell_type": "code",
   "execution_count": null,
   "id": "4dff933c",
   "metadata": {},
   "outputs": [],
   "source": []
  }
 ],
 "metadata": {
  "kernelspec": {
   "display_name": "Python 3 (ipykernel)",
   "language": "python",
   "name": "python3"
  },
  "language_info": {
   "codemirror_mode": {
    "name": "ipython",
    "version": 3
   },
   "file_extension": ".py",
   "mimetype": "text/x-python",
   "name": "python",
   "nbconvert_exporter": "python",
   "pygments_lexer": "ipython3",
   "version": "3.10.9"
  }
 },
 "nbformat": 4,
 "nbformat_minor": 5
}
